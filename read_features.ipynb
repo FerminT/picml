{
 "cells": [
  {
   "cell_type": "code",
   "execution_count": 51,
   "metadata": {},
   "outputs": [],
   "source": [
    "from junifer import storage\n",
    "\n",
    "fname_vbm = 'data/features/aomic_vbm_gm.hdf5'\n",
    "fname_ds = 'data/features/ds003097_bold.hdf5'\n",
    "vbm_features = storage.HDF5FeatureStorage(fname_vbm, 'r')\n",
    "bold_features = storage.HDF5FeatureStorage(fname_ds, 'r')\n",
    "vbm_features_list = vbm_features.list_features()\n",
    "bold_features_list = bold_features.list_features()"
   ]
  },
  {
   "cell_type": "code",
   "execution_count": 54,
   "metadata": {},
   "outputs": [],
   "source": [
    "vbm_features_name = list(vbm_features_list.items())[0][1]['name']\n",
    "bold_features_names = [f['name'] for _, f in bold_features.items()]"
   ]
  },
  {
   "cell_type": "code",
   "execution_count": 66,
   "metadata": {},
   "outputs": [],
   "source": [
    "features = {}\n",
    "for name in bold_features_names:\n",
    "    features[name] = bold_features.read_df(name)\n",
    "features[vbm_features_name] = vbm_features.read_df(vbm_features_name)"
   ]
  },
  {
   "cell_type": "code",
   "execution_count": 59,
   "metadata": {},
   "outputs": [
    {
     "name": "stdout",
     "output_type": "stream",
     "text": [
      "BOLD_ReHoParcels_Yan100xYeo7_afni: (881, 100)\n",
      "BOLD_funConParcel_Yan100xYeo7_correlation_mean: (881, 5050)\n",
      "BOLD_funConParcel_Yan100xYeo7_covariance_mean: (881, 5050)\n",
      "VBM_GM_ParcelAggregation_Yan100xYeo7_Mean: (909, 100)\n"
     ]
    }
   ],
   "source": [
    "for feature in features:\n",
    "    print(f'{feature}: {features[feature].shape}')"
   ]
  },
  {
   "cell_type": "code",
   "execution_count": 97,
   "metadata": {},
   "outputs": [
    {
     "data": {
      "text/plain": [
       "MultiIndex([('sub-0368',),\n",
       "            ('sub-0043',),\n",
       "            ('sub-0356',),\n",
       "            ('sub-0669',),\n",
       "            ('sub-0542',),\n",
       "            ('sub-0884',),\n",
       "            ('sub-0657',),\n",
       "            ('sub-0787',),\n",
       "            ('sub-0492',),\n",
       "            ('sub-0286',),\n",
       "            ...\n",
       "            ('sub-0389',),\n",
       "            ('sub-0865',),\n",
       "            ('sub-0688',),\n",
       "            ('sub-0208',),\n",
       "            ('sub-0123',),\n",
       "            ('sub-0236',),\n",
       "            ('sub-0709',),\n",
       "            ('sub-0422',),\n",
       "            ('sub-0737',),\n",
       "            ('sub-0834',)],\n",
       "           names=['subject'], length=881)"
      ]
     },
     "execution_count": 97,
     "metadata": {},
     "output_type": "execute_result"
    }
   ],
   "source": [
    "features['BOLD_ReHoParcels_Yan100xYeo7_afni'].index"
   ]
  }
 ],
 "metadata": {
  "kernelspec": {
   "display_name": "Python 3",
   "language": "python",
   "name": "python3"
  },
  "language_info": {
   "codemirror_mode": {
    "name": "ipython",
    "version": 3
   },
   "file_extension": ".py",
   "mimetype": "text/x-python",
   "name": "python",
   "nbconvert_exporter": "python",
   "pygments_lexer": "ipython3",
   "version": "3.12.3"
  }
 },
 "nbformat": 4,
 "nbformat_minor": 2
}
